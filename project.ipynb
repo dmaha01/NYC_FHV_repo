{
 "cells": [
  {
   "cell_type": "code",
   "execution_count": 1,
   "id": "3362c45a-5081-4f63-a30c-f25760a028b6",
   "metadata": {},
   "outputs": [],
   "source": [
    "import pandas as pd\n",
    "from sklearn.linear_model import LinearRegression\n",
    "import sklearn\n",
    "from sklearn.model_selection import train_test_split\n",
    "from sklearn.model_selection import cross_val_score\n",
    "import numpy as np\n",
    "import matplotlib.pyplot as plt"
   ]
  },
  {
   "cell_type": "code",
   "execution_count": 2,
   "id": "3f70b9f1-ea9a-4fdb-9106-1abe3e9c540d",
   "metadata": {},
   "outputs": [
    {
     "data": {
      "text/html": [
       "<div>\n",
       "<style scoped>\n",
       "    .dataframe tbody tr th:only-of-type {\n",
       "        vertical-align: middle;\n",
       "    }\n",
       "\n",
       "    .dataframe tbody tr th {\n",
       "        vertical-align: top;\n",
       "    }\n",
       "\n",
       "    .dataframe thead th {\n",
       "        text-align: right;\n",
       "    }\n",
       "</style>\n",
       "<table border=\"1\" class=\"dataframe\">\n",
       "  <thead>\n",
       "    <tr style=\"text-align: right;\">\n",
       "      <th></th>\n",
       "      <th>trip_time</th>\n",
       "      <th>trip_miles</th>\n",
       "      <th>driver_pay</th>\n",
       "      <th>tips</th>\n",
       "    </tr>\n",
       "    <tr>\n",
       "      <th>index</th>\n",
       "      <th></th>\n",
       "      <th></th>\n",
       "      <th></th>\n",
       "      <th></th>\n",
       "    </tr>\n",
       "  </thead>\n",
       "  <tbody>\n",
       "    <tr>\n",
       "      <th>0</th>\n",
       "      <td>579</td>\n",
       "      <td>2.45</td>\n",
       "      <td>7.48</td>\n",
       "      <td>0.0</td>\n",
       "    </tr>\n",
       "    <tr>\n",
       "      <th>1</th>\n",
       "      <td>490</td>\n",
       "      <td>1.71</td>\n",
       "      <td>7.93</td>\n",
       "      <td>2.0</td>\n",
       "    </tr>\n",
       "    <tr>\n",
       "      <th>2</th>\n",
       "      <td>2159</td>\n",
       "      <td>5.01</td>\n",
       "      <td>35.97</td>\n",
       "      <td>0.0</td>\n",
       "    </tr>\n",
       "    <tr>\n",
       "      <th>3</th>\n",
       "      <td>179</td>\n",
       "      <td>0.34</td>\n",
       "      <td>5.39</td>\n",
       "      <td>3.0</td>\n",
       "    </tr>\n",
       "    <tr>\n",
       "      <th>4</th>\n",
       "      <td>1799</td>\n",
       "      <td>6.84</td>\n",
       "      <td>17.07</td>\n",
       "      <td>4.0</td>\n",
       "    </tr>\n",
       "    <tr>\n",
       "      <th>...</th>\n",
       "      <td>...</td>\n",
       "      <td>...</td>\n",
       "      <td>...</td>\n",
       "      <td>...</td>\n",
       "    </tr>\n",
       "    <tr>\n",
       "      <th>99995</th>\n",
       "      <td>305</td>\n",
       "      <td>0.81</td>\n",
       "      <td>11.71</td>\n",
       "      <td>0.0</td>\n",
       "    </tr>\n",
       "    <tr>\n",
       "      <th>99996</th>\n",
       "      <td>1781</td>\n",
       "      <td>4.66</td>\n",
       "      <td>9.77</td>\n",
       "      <td>0.0</td>\n",
       "    </tr>\n",
       "    <tr>\n",
       "      <th>99997</th>\n",
       "      <td>1401</td>\n",
       "      <td>3.56</td>\n",
       "      <td>7.61</td>\n",
       "      <td>0.0</td>\n",
       "    </tr>\n",
       "    <tr>\n",
       "      <th>99998</th>\n",
       "      <td>286</td>\n",
       "      <td>0.84</td>\n",
       "      <td>7.00</td>\n",
       "      <td>0.0</td>\n",
       "    </tr>\n",
       "    <tr>\n",
       "      <th>99999</th>\n",
       "      <td>520</td>\n",
       "      <td>2.31</td>\n",
       "      <td>9.84</td>\n",
       "      <td>3.0</td>\n",
       "    </tr>\n",
       "  </tbody>\n",
       "</table>\n",
       "<p>100000 rows × 4 columns</p>\n",
       "</div>"
      ],
      "text/plain": [
       "       trip_time  trip_miles  driver_pay  tips\n",
       "index                                         \n",
       "0            579        2.45        7.48   0.0\n",
       "1            490        1.71        7.93   2.0\n",
       "2           2159        5.01       35.97   0.0\n",
       "3            179        0.34        5.39   3.0\n",
       "4           1799        6.84       17.07   4.0\n",
       "...          ...         ...         ...   ...\n",
       "99995        305        0.81       11.71   0.0\n",
       "99996       1781        4.66        9.77   0.0\n",
       "99997       1401        3.56        7.61   0.0\n",
       "99998        286        0.84        7.00   0.0\n",
       "99999        520        2.31        9.84   3.0\n",
       "\n",
       "[100000 rows x 4 columns]"
      ]
     },
     "execution_count": 2,
     "metadata": {},
     "output_type": "execute_result"
    }
   ],
   "source": [
    "trips = pd.read_csv(\"2019-02.csv\")\n",
    "trips[\"index\"] = trips[\"index\"] - 1\n",
    "trips.set_index(\"index\")"
   ]
  },
  {
   "cell_type": "code",
   "execution_count": 3,
   "id": "ca0ab749-99bf-4d48-b7f5-e8d9cb20e74c",
   "metadata": {},
   "outputs": [
    {
     "data": {
      "text/html": [
       "<div>\n",
       "<style scoped>\n",
       "    .dataframe tbody tr th:only-of-type {\n",
       "        vertical-align: middle;\n",
       "    }\n",
       "\n",
       "    .dataframe tbody tr th {\n",
       "        vertical-align: top;\n",
       "    }\n",
       "\n",
       "    .dataframe thead th {\n",
       "        text-align: right;\n",
       "    }\n",
       "</style>\n",
       "<table border=\"1\" class=\"dataframe\">\n",
       "  <thead>\n",
       "    <tr style=\"text-align: right;\">\n",
       "      <th></th>\n",
       "      <th>trip_time</th>\n",
       "      <th>trip_miles</th>\n",
       "      <th>driver_pay</th>\n",
       "      <th>tips</th>\n",
       "      <th>index</th>\n",
       "    </tr>\n",
       "  </thead>\n",
       "  <tbody>\n",
       "    <tr>\n",
       "      <th>0</th>\n",
       "      <td>579</td>\n",
       "      <td>2.45</td>\n",
       "      <td>7.48</td>\n",
       "      <td>0.0</td>\n",
       "      <td>0</td>\n",
       "    </tr>\n",
       "    <tr>\n",
       "      <th>1</th>\n",
       "      <td>490</td>\n",
       "      <td>1.71</td>\n",
       "      <td>7.93</td>\n",
       "      <td>2.0</td>\n",
       "      <td>1</td>\n",
       "    </tr>\n",
       "    <tr>\n",
       "      <th>2</th>\n",
       "      <td>2159</td>\n",
       "      <td>5.01</td>\n",
       "      <td>35.97</td>\n",
       "      <td>0.0</td>\n",
       "      <td>2</td>\n",
       "    </tr>\n",
       "    <tr>\n",
       "      <th>3</th>\n",
       "      <td>179</td>\n",
       "      <td>0.34</td>\n",
       "      <td>5.39</td>\n",
       "      <td>3.0</td>\n",
       "      <td>3</td>\n",
       "    </tr>\n",
       "    <tr>\n",
       "      <th>4</th>\n",
       "      <td>1799</td>\n",
       "      <td>6.84</td>\n",
       "      <td>17.07</td>\n",
       "      <td>4.0</td>\n",
       "      <td>4</td>\n",
       "    </tr>\n",
       "  </tbody>\n",
       "</table>\n",
       "</div>"
      ],
      "text/plain": [
       "   trip_time  trip_miles  driver_pay  tips  index\n",
       "0        579        2.45        7.48   0.0      0\n",
       "1        490        1.71        7.93   2.0      1\n",
       "2       2159        5.01       35.97   0.0      2\n",
       "3        179        0.34        5.39   3.0      3\n",
       "4       1799        6.84       17.07   4.0      4"
      ]
     },
     "execution_count": 3,
     "metadata": {},
     "output_type": "execute_result"
    }
   ],
   "source": [
    "trips.head()"
   ]
  },
  {
   "cell_type": "code",
   "execution_count": 4,
   "id": "43188c42-b313-4f41-9724-db17da2bf443",
   "metadata": {},
   "outputs": [],
   "source": [
    "train, test = train_test_split(trips, test_size=0.25)"
   ]
  },
  {
   "cell_type": "code",
   "execution_count": 5,
   "id": "9e3b193d-d8d4-4ce4-ac55-e56e02ebd9c1",
   "metadata": {},
   "outputs": [
    {
     "data": {
      "text/html": [
       "<div>\n",
       "<style scoped>\n",
       "    .dataframe tbody tr th:only-of-type {\n",
       "        vertical-align: middle;\n",
       "    }\n",
       "\n",
       "    .dataframe tbody tr th {\n",
       "        vertical-align: top;\n",
       "    }\n",
       "\n",
       "    .dataframe thead th {\n",
       "        text-align: right;\n",
       "    }\n",
       "</style>\n",
       "<table border=\"1\" class=\"dataframe\">\n",
       "  <thead>\n",
       "    <tr style=\"text-align: right;\">\n",
       "      <th></th>\n",
       "      <th>trip_time</th>\n",
       "      <th>trip_miles</th>\n",
       "      <th>driver_pay</th>\n",
       "      <th>tips</th>\n",
       "      <th>index</th>\n",
       "    </tr>\n",
       "  </thead>\n",
       "  <tbody>\n",
       "    <tr>\n",
       "      <th>55078</th>\n",
       "      <td>2219</td>\n",
       "      <td>12.57</td>\n",
       "      <td>27.26</td>\n",
       "      <td>0.0</td>\n",
       "      <td>55078</td>\n",
       "    </tr>\n",
       "    <tr>\n",
       "      <th>45241</th>\n",
       "      <td>443</td>\n",
       "      <td>2.14</td>\n",
       "      <td>3.88</td>\n",
       "      <td>0.0</td>\n",
       "      <td>45241</td>\n",
       "    </tr>\n",
       "    <tr>\n",
       "      <th>84520</th>\n",
       "      <td>700</td>\n",
       "      <td>1.89</td>\n",
       "      <td>4.58</td>\n",
       "      <td>0.0</td>\n",
       "      <td>84520</td>\n",
       "    </tr>\n",
       "    <tr>\n",
       "      <th>95831</th>\n",
       "      <td>712</td>\n",
       "      <td>1.44</td>\n",
       "      <td>11.21</td>\n",
       "      <td>0.0</td>\n",
       "      <td>95831</td>\n",
       "    </tr>\n",
       "    <tr>\n",
       "      <th>25098</th>\n",
       "      <td>1028</td>\n",
       "      <td>7.47</td>\n",
       "      <td>10.35</td>\n",
       "      <td>1.0</td>\n",
       "      <td>25098</td>\n",
       "    </tr>\n",
       "  </tbody>\n",
       "</table>\n",
       "</div>"
      ],
      "text/plain": [
       "       trip_time  trip_miles  driver_pay  tips  index\n",
       "55078       2219       12.57       27.26   0.0  55078\n",
       "45241        443        2.14        3.88   0.0  45241\n",
       "84520        700        1.89        4.58   0.0  84520\n",
       "95831        712        1.44       11.21   0.0  95831\n",
       "25098       1028        7.47       10.35   1.0  25098"
      ]
     },
     "execution_count": 5,
     "metadata": {},
     "output_type": "execute_result"
    }
   ],
   "source": [
    "train.head()"
   ]
  },
  {
   "cell_type": "code",
   "execution_count": 6,
   "id": "06f6e7bd-0f8e-4f63-9762-697e83be095a",
   "metadata": {},
   "outputs": [
    {
     "data": {
      "text/plain": [
       "0.4396238236895659"
      ]
     },
     "execution_count": 6,
     "metadata": {},
     "output_type": "execute_result"
    }
   ],
   "source": [
    "model = LinearRegression()\n",
    "xcols = [\"trip_time\"]\n",
    "ycol = \"driver_pay\"\n",
    "model.fit(train[xcols], train[ycol])\n",
    "model.predict(test[xcols])\n",
    "model.score(test[xcols], test[ycol])"
   ]
  },
  {
   "cell_type": "code",
   "execution_count": 7,
   "id": "57b69c4d-f76b-43c5-9e48-dc9c27c775ad",
   "metadata": {},
   "outputs": [
    {
     "data": {
      "text/html": [
       "<div>\n",
       "<style scoped>\n",
       "    .dataframe tbody tr th:only-of-type {\n",
       "        vertical-align: middle;\n",
       "    }\n",
       "\n",
       "    .dataframe tbody tr th {\n",
       "        vertical-align: top;\n",
       "    }\n",
       "\n",
       "    .dataframe thead th {\n",
       "        text-align: right;\n",
       "    }\n",
       "</style>\n",
       "<table border=\"1\" class=\"dataframe\">\n",
       "  <thead>\n",
       "    <tr style=\"text-align: right;\">\n",
       "      <th></th>\n",
       "      <th>trip_time</th>\n",
       "      <th>Predicted</th>\n",
       "    </tr>\n",
       "  </thead>\n",
       "  <tbody>\n",
       "    <tr>\n",
       "      <th>0</th>\n",
       "      <td>579</td>\n",
       "      <td>7.599078</td>\n",
       "    </tr>\n",
       "    <tr>\n",
       "      <th>1</th>\n",
       "      <td>490</td>\n",
       "      <td>6.332344</td>\n",
       "    </tr>\n",
       "    <tr>\n",
       "      <th>2</th>\n",
       "      <td>2159</td>\n",
       "      <td>30.087147</td>\n",
       "    </tr>\n",
       "    <tr>\n",
       "      <th>3</th>\n",
       "      <td>179</td>\n",
       "      <td>1.905895</td>\n",
       "    </tr>\n",
       "    <tr>\n",
       "      <th>4</th>\n",
       "      <td>1799</td>\n",
       "      <td>24.963283</td>\n",
       "    </tr>\n",
       "    <tr>\n",
       "      <th>...</th>\n",
       "      <td>...</td>\n",
       "      <td>...</td>\n",
       "    </tr>\n",
       "    <tr>\n",
       "      <th>99995</th>\n",
       "      <td>305</td>\n",
       "      <td>3.699248</td>\n",
       "    </tr>\n",
       "    <tr>\n",
       "      <th>99996</th>\n",
       "      <td>1781</td>\n",
       "      <td>24.707090</td>\n",
       "    </tr>\n",
       "    <tr>\n",
       "      <th>99997</th>\n",
       "      <td>1401</td>\n",
       "      <td>19.298567</td>\n",
       "    </tr>\n",
       "    <tr>\n",
       "      <th>99998</th>\n",
       "      <td>286</td>\n",
       "      <td>3.428822</td>\n",
       "    </tr>\n",
       "    <tr>\n",
       "      <th>99999</th>\n",
       "      <td>520</td>\n",
       "      <td>6.759333</td>\n",
       "    </tr>\n",
       "  </tbody>\n",
       "</table>\n",
       "<p>100000 rows × 2 columns</p>\n",
       "</div>"
      ],
      "text/plain": [
       "       trip_time  Predicted\n",
       "0            579   7.599078\n",
       "1            490   6.332344\n",
       "2           2159  30.087147\n",
       "3            179   1.905895\n",
       "4           1799  24.963283\n",
       "...          ...        ...\n",
       "99995        305   3.699248\n",
       "99996       1781  24.707090\n",
       "99997       1401  19.298567\n",
       "99998        286   3.428822\n",
       "99999        520   6.759333\n",
       "\n",
       "[100000 rows x 2 columns]"
      ]
     },
     "execution_count": 7,
     "metadata": {},
     "output_type": "execute_result"
    }
   ],
   "source": [
    "predict_df = pd.DataFrame(trips[\"trip_time\"])\n",
    "predict_df[\"Predicted\"] = model.predict(predict_df)\n",
    "predict_df"
   ]
  },
  {
   "cell_type": "code",
   "execution_count": 8,
   "id": "7b4a9216-1926-4322-bc60-042c7fbd055d",
   "metadata": {},
   "outputs": [
    {
     "data": {
      "text/plain": [
       "<AxesSubplot:xlabel='trip_time', ylabel='driver_pay'>"
      ]
     },
     "execution_count": 8,
     "metadata": {},
     "output_type": "execute_result"
    },
    {
     "data": {
      "image/png": "[encoded data removed]",
      "text/plain": [
       "<Figure size 640x480 with 1 Axes>"
      ]
     },
     "metadata": {},
     "output_type": "display_data"
    }
   ],
   "source": [
    "ax = predict_df.plot.line(x=\"trip_time\", y=\"Predicted\", color=\"r\")\n",
    "trips.plot.scatter(x=\"trip_time\", y=\"driver_pay\", ax=ax, color = \"blue\", label = \"Actual\")"
   ]
  },
  {
   "cell_type": "code",
   "execution_count": 9,
   "id": "67d0638f-9a90-4db7-8637-d2b8eeec1566",
   "metadata": {},
   "outputs": [
    {
     "data": {
      "text/plain": [
       "0.6459493646287662"
      ]
     },
     "execution_count": 9,
     "metadata": {},
     "output_type": "execute_result"
    }
   ],
   "source": [
    "model = LinearRegression()\n",
    "xcols = [\"trip_miles\"]\n",
    "ycol = \"driver_pay\"\n",
    "model.fit(train[xcols], train[ycol])\n",
    "model.predict(test[xcols])\n",
    "model.score(test[xcols], test[ycol])"
   ]
  },
  {
   "cell_type": "code",
   "execution_count": 10,
   "id": "5267477a-6fe7-4150-9e4d-3d9b35d7368b",
   "metadata": {},
   "outputs": [
    {
     "data": {
      "text/html": [
       "<div>\n",
       "<style scoped>\n",
       "    .dataframe tbody tr th:only-of-type {\n",
       "        vertical-align: middle;\n",
       "    }\n",
       "\n",
       "    .dataframe tbody tr th {\n",
       "        vertical-align: top;\n",
       "    }\n",
       "\n",
       "    .dataframe thead th {\n",
       "        text-align: right;\n",
       "    }\n",
       "</style>\n",
       "<table border=\"1\" class=\"dataframe\">\n",
       "  <thead>\n",
       "    <tr style=\"text-align: right;\">\n",
       "      <th></th>\n",
       "      <th>trip_miles</th>\n",
       "      <th>Predicted</th>\n",
       "    </tr>\n",
       "  </thead>\n",
       "  <tbody>\n",
       "    <tr>\n",
       "      <th>0</th>\n",
       "      <td>2.45</td>\n",
       "      <td>7.781669</td>\n",
       "    </tr>\n",
       "    <tr>\n",
       "      <th>1</th>\n",
       "      <td>1.71</td>\n",
       "      <td>6.332346</td>\n",
       "    </tr>\n",
       "    <tr>\n",
       "      <th>2</th>\n",
       "      <td>5.01</td>\n",
       "      <td>12.795544</td>\n",
       "    </tr>\n",
       "    <tr>\n",
       "      <th>3</th>\n",
       "      <td>0.34</td>\n",
       "      <td>3.649140</td>\n",
       "    </tr>\n",
       "    <tr>\n",
       "      <th>4</th>\n",
       "      <td>6.84</td>\n",
       "      <td>16.379681</td>\n",
       "    </tr>\n",
       "    <tr>\n",
       "      <th>...</th>\n",
       "      <td>...</td>\n",
       "      <td>...</td>\n",
       "    </tr>\n",
       "    <tr>\n",
       "      <th>99995</th>\n",
       "      <td>0.81</td>\n",
       "      <td>4.569656</td>\n",
       "    </tr>\n",
       "    <tr>\n",
       "      <th>99996</th>\n",
       "      <td>4.66</td>\n",
       "      <td>12.110053</td>\n",
       "    </tr>\n",
       "    <tr>\n",
       "      <th>99997</th>\n",
       "      <td>3.56</td>\n",
       "      <td>9.955654</td>\n",
       "    </tr>\n",
       "    <tr>\n",
       "      <th>99998</th>\n",
       "      <td>0.84</td>\n",
       "      <td>4.628412</td>\n",
       "    </tr>\n",
       "    <tr>\n",
       "      <th>99999</th>\n",
       "      <td>2.31</td>\n",
       "      <td>7.507473</td>\n",
       "    </tr>\n",
       "  </tbody>\n",
       "</table>\n",
       "<p>100000 rows × 2 columns</p>\n",
       "</div>"
      ],
      "text/plain": [
       "       trip_miles  Predicted\n",
       "0            2.45   7.781669\n",
       "1            1.71   6.332346\n",
       "2            5.01  12.795544\n",
       "3            0.34   3.649140\n",
       "4            6.84  16.379681\n",
       "...           ...        ...\n",
       "99995        0.81   4.569656\n",
       "99996        4.66  12.110053\n",
       "99997        3.56   9.955654\n",
       "99998        0.84   4.628412\n",
       "99999        2.31   7.507473\n",
       "\n",
       "[100000 rows x 2 columns]"
      ]
     },
     "execution_count": 10,
     "metadata": {},
     "output_type": "execute_result"
    }
   ],
   "source": [
    "predict_df = pd.DataFrame(trips[\"trip_miles\"])\n",
    "predict_df[\"Predicted\"] = model.predict(predict_df)\n",
    "predict_df"
   ]
  },
  {
   "cell_type": "code",
   "execution_count": 11,
   "id": "11533ece-fd29-4ef1-b56a-f7ddd95278e1",
   "metadata": {},
   "outputs": [
    {
     "data": {
      "text/plain": [
       "<AxesSubplot:xlabel='trip_miles', ylabel='driver_pay'>"
      ]
     },
     "execution_count": 11,
     "metadata": {},
     "output_type": "execute_result"
    },
    {
     "data": {
      "image/png": "[encoded data removed]",
      "text/plain": [
       "<Figure size 640x480 with 1 Axes>"
      ]
     },
     "metadata": {},
     "output_type": "display_data"
    }
   ],
   "source": [
    "ax = predict_df.plot.line(x=\"trip_miles\", y=\"Predicted\", color=\"r\")\n",
    "trips.plot.scatter(x=\"trip_miles\", y=\"driver_pay\", ax=ax, color = \"blue\", label = \"Actual\")"
   ]
  },
  {
   "cell_type": "code",
   "execution_count": 12,
   "id": "581cdf9b-0a78-4dd0-836c-8a983983f4ab",
   "metadata": {},
   "outputs": [
    {
     "data": {
      "text/plain": [
       "0.05069366634190153"
      ]
     },
     "execution_count": 12,
     "metadata": {},
     "output_type": "execute_result"
    }
   ],
   "source": [
    "model = LinearRegression()\n",
    "xcols = [\"trip_time\"]\n",
    "ycol = \"tips\"\n",
    "model.fit(train[xcols], train[ycol])\n",
    "model.predict(test[xcols])\n",
    "model.score(test[xcols], test[ycol])"
   ]
  },
  {
   "cell_type": "code",
   "execution_count": 13,
   "id": "114ff46e-1905-426f-8091-49a752af4b7d",
   "metadata": {},
   "outputs": [
    {
     "data": {
      "text/html": [
       "<div>\n",
       "<style scoped>\n",
       "    .dataframe tbody tr th:only-of-type {\n",
       "        vertical-align: middle;\n",
       "    }\n",
       "\n",
       "    .dataframe tbody tr th {\n",
       "        vertical-align: top;\n",
       "    }\n",
       "\n",
       "    .dataframe thead th {\n",
       "        text-align: right;\n",
       "    }\n",
       "</style>\n",
       "<table border=\"1\" class=\"dataframe\">\n",
       "  <thead>\n",
       "    <tr style=\"text-align: right;\">\n",
       "      <th></th>\n",
       "      <th>trip_time</th>\n",
       "      <th>Predicted</th>\n",
       "    </tr>\n",
       "  </thead>\n",
       "  <tbody>\n",
       "    <tr>\n",
       "      <th>0</th>\n",
       "      <td>579</td>\n",
       "      <td>0.252383</td>\n",
       "    </tr>\n",
       "    <tr>\n",
       "      <th>1</th>\n",
       "      <td>490</td>\n",
       "      <td>0.202980</td>\n",
       "    </tr>\n",
       "    <tr>\n",
       "      <th>2</th>\n",
       "      <td>2159</td>\n",
       "      <td>1.129419</td>\n",
       "    </tr>\n",
       "    <tr>\n",
       "      <th>3</th>\n",
       "      <td>179</td>\n",
       "      <td>0.030348</td>\n",
       "    </tr>\n",
       "    <tr>\n",
       "      <th>4</th>\n",
       "      <td>1799</td>\n",
       "      <td>0.929588</td>\n",
       "    </tr>\n",
       "    <tr>\n",
       "      <th>...</th>\n",
       "      <td>...</td>\n",
       "      <td>...</td>\n",
       "    </tr>\n",
       "    <tr>\n",
       "      <th>99995</th>\n",
       "      <td>305</td>\n",
       "      <td>0.100289</td>\n",
       "    </tr>\n",
       "    <tr>\n",
       "      <th>99996</th>\n",
       "      <td>1781</td>\n",
       "      <td>0.919597</td>\n",
       "    </tr>\n",
       "    <tr>\n",
       "      <th>99997</th>\n",
       "      <td>1401</td>\n",
       "      <td>0.708664</td>\n",
       "    </tr>\n",
       "    <tr>\n",
       "      <th>99998</th>\n",
       "      <td>286</td>\n",
       "      <td>0.089742</td>\n",
       "    </tr>\n",
       "    <tr>\n",
       "      <th>99999</th>\n",
       "      <td>520</td>\n",
       "      <td>0.219632</td>\n",
       "    </tr>\n",
       "  </tbody>\n",
       "</table>\n",
       "<p>100000 rows × 2 columns</p>\n",
       "</div>"
      ],
      "text/plain": [
       "       trip_time  Predicted\n",
       "0            579   0.252383\n",
       "1            490   0.202980\n",
       "2           2159   1.129419\n",
       "3            179   0.030348\n",
       "4           1799   0.929588\n",
       "...          ...        ...\n",
       "99995        305   0.100289\n",
       "99996       1781   0.919597\n",
       "99997       1401   0.708664\n",
       "99998        286   0.089742\n",
       "99999        520   0.219632\n",
       "\n",
       "[100000 rows x 2 columns]"
      ]
     },
     "execution_count": 13,
     "metadata": {},
     "output_type": "execute_result"
    }
   ],
   "source": [
    "predict_df = pd.DataFrame(trips[\"trip_time\"])\n",
    "predict_df[\"Predicted\"] = model.predict(predict_df)\n",
    "predict_df"
   ]
  },
  {
   "cell_type": "code",
   "execution_count": 14,
   "id": "4716fe4c-0575-4e38-9eda-95ad48f84f0b",
   "metadata": {},
   "outputs": [
    {
     "data": {
      "text/plain": [
       "<AxesSubplot:xlabel='trip_time', ylabel='tips'>"
      ]
     },
     "execution_count": 14,
     "metadata": {},
     "output_type": "execute_result"
    },
    {
     "data": {
      "image/png": "[encoded data removed]",
      "text/plain": [
       "<Figure size 640x480 with 1 Axes>"
      ]
     },
     "metadata": {},
     "output_type": "display_data"
    }
   ],
   "source": [
    "ax = predict_df.plot.line(x=\"trip_time\", y=\"Predicted\", color=\"r\")\n",
    "trips.plot.scatter(x=\"trip_time\", y=\"tips\", ax=ax, color = \"blue\", label = \"Actual\")"
   ]
  },
  {
   "cell_type": "code",
   "execution_count": 15,
   "id": "fbd32238-42c5-4918-baac-4bd5136f8c4b",
   "metadata": {},
   "outputs": [
    {
     "data": {
      "text/plain": [
       "0.09781426772538604"
      ]
     },
     "execution_count": 15,
     "metadata": {},
     "output_type": "execute_result"
    }
   ],
   "source": [
    "model = LinearRegression()\n",
    "xcols = [\"trip_miles\"]\n",
    "ycol = \"tips\"\n",
    "model.fit(train[xcols], train[ycol])\n",
    "model.predict(test[xcols])\n",
    "model.score(test[xcols], test[ycol])"
   ]
  },
  {
   "cell_type": "code",
   "execution_count": 16,
   "id": "af7318f7-df84-4359-adfb-b32dda03024f",
   "metadata": {},
   "outputs": [
    {
     "data": {
      "text/html": [
       "<div>\n",
       "<style scoped>\n",
       "    .dataframe tbody tr th:only-of-type {\n",
       "        vertical-align: middle;\n",
       "    }\n",
       "\n",
       "    .dataframe tbody tr th {\n",
       "        vertical-align: top;\n",
       "    }\n",
       "\n",
       "    .dataframe thead th {\n",
       "        text-align: right;\n",
       "    }\n",
       "</style>\n",
       "<table border=\"1\" class=\"dataframe\">\n",
       "  <thead>\n",
       "    <tr style=\"text-align: right;\">\n",
       "      <th></th>\n",
       "      <th>trip_miles</th>\n",
       "      <th>Predicted</th>\n",
       "    </tr>\n",
       "  </thead>\n",
       "  <tbody>\n",
       "    <tr>\n",
       "      <th>0</th>\n",
       "      <td>2.45</td>\n",
       "      <td>0.219203</td>\n",
       "    </tr>\n",
       "    <tr>\n",
       "      <th>1</th>\n",
       "      <td>1.71</td>\n",
       "      <td>0.153484</td>\n",
       "    </tr>\n",
       "    <tr>\n",
       "      <th>2</th>\n",
       "      <td>5.01</td>\n",
       "      <td>0.446555</td>\n",
       "    </tr>\n",
       "    <tr>\n",
       "      <th>3</th>\n",
       "      <td>0.34</td>\n",
       "      <td>0.031815</td>\n",
       "    </tr>\n",
       "    <tr>\n",
       "      <th>4</th>\n",
       "      <td>6.84</td>\n",
       "      <td>0.609077</td>\n",
       "    </tr>\n",
       "    <tr>\n",
       "      <th>...</th>\n",
       "      <td>...</td>\n",
       "      <td>...</td>\n",
       "    </tr>\n",
       "    <tr>\n",
       "      <th>99995</th>\n",
       "      <td>0.81</td>\n",
       "      <td>0.073556</td>\n",
       "    </tr>\n",
       "    <tr>\n",
       "      <th>99996</th>\n",
       "      <td>4.66</td>\n",
       "      <td>0.415472</td>\n",
       "    </tr>\n",
       "    <tr>\n",
       "      <th>99997</th>\n",
       "      <td>3.56</td>\n",
       "      <td>0.317782</td>\n",
       "    </tr>\n",
       "    <tr>\n",
       "      <th>99998</th>\n",
       "      <td>0.84</td>\n",
       "      <td>0.076220</td>\n",
       "    </tr>\n",
       "    <tr>\n",
       "      <th>99999</th>\n",
       "      <td>2.31</td>\n",
       "      <td>0.206770</td>\n",
       "    </tr>\n",
       "  </tbody>\n",
       "</table>\n",
       "<p>100000 rows × 2 columns</p>\n",
       "</div>"
      ],
      "text/plain": [
       "       trip_miles  Predicted\n",
       "0            2.45   0.219203\n",
       "1            1.71   0.153484\n",
       "2            5.01   0.446555\n",
       "3            0.34   0.031815\n",
       "4            6.84   0.609077\n",
       "...           ...        ...\n",
       "99995        0.81   0.073556\n",
       "99996        4.66   0.415472\n",
       "99997        3.56   0.317782\n",
       "99998        0.84   0.076220\n",
       "99999        2.31   0.206770\n",
       "\n",
       "[100000 rows x 2 columns]"
      ]
     },
     "execution_count": 16,
     "metadata": {},
     "output_type": "execute_result"
    }
   ],
   "source": [
    "predict_df = pd.DataFrame(trips[\"trip_miles\"])\n",
    "predict_df[\"Predicted\"] = model.predict(predict_df)\n",
    "predict_df"
   ]
  },
  {
   "cell_type": "code",
   "execution_count": 17,
   "id": "570ba8a0-854f-4d9b-96ec-867e95bba82a",
   "metadata": {},
   "outputs": [
    {
     "data": {
      "text/plain": [
       "<AxesSubplot:xlabel='trip_miles', ylabel='tips'>"
      ]
     },
     "execution_count": 17,
     "metadata": {},
     "output_type": "execute_result"
    },
    {
     "data": {
      "image/png": "[encoded data removed]",
      "text/plain": [
       "<Figure size 640x480 with 1 Axes>"
      ]
     },
     "metadata": {},
     "output_type": "display_data"
    }
   ],
   "source": [
    "ax = predict_df.plot.line(x=\"trip_miles\", y=\"Predicted\", color=\"r\")\n",
    "trips.plot.scatter(x=\"trip_miles\", y=\"tips\", ax=ax, color = \"blue\", label = \"Actual\")"
   ]
  },
  {
   "cell_type": "code",
   "execution_count": 18,
   "id": "6f4c43eb-1888-442a-8f6b-33e36f0cff36",
   "metadata": {},
   "outputs": [
    {
     "data": {
      "text/plain": [
       "0.6471338326569307"
      ]
     },
     "execution_count": 18,
     "metadata": {},
     "output_type": "execute_result"
    }
   ],
   "source": [
    "model = LinearRegression()\n",
    "xcols = [\"trip_miles\", \"trip_time\"]\n",
    "ycol = \"driver_pay\"\n",
    "model.fit(train[xcols], train[ycol])\n",
    "model.predict(test[xcols])\n",
    "model.score(test[xcols], test[ycol])"
   ]
  },
  {
   "cell_type": "code",
   "execution_count": 19,
   "id": "5e6d1c37-fd70-43ea-b405-46388267344a",
   "metadata": {},
   "outputs": [
    {
     "data": {
      "text/plain": [
       "0.09959742058227494"
      ]
     },
     "execution_count": 19,
     "metadata": {},
     "output_type": "execute_result"
    }
   ],
   "source": [
    "model = LinearRegression()\n",
    "xcols = [\"trip_miles\", \"trip_time\"]\n",
    "ycol = \"tips\"\n",
    "model.fit(train[xcols], train[ycol])\n",
    "model.predict(test[xcols])\n",
    "model.score(test[xcols], test[ycol])"
   ]
  }
 ],
 "metadata": {
  "kernelspec": {
   "display_name": "Python 3 (ipykernel)",
   "language": "python",
   "name": "python3"
  },
  "language_info": {
   "codemirror_mode": {
    "name": "ipython",
    "version": 3
   },
   "file_extension": ".py",
   "mimetype": "text/x-python",
   "name": "python",
   "nbconvert_exporter": "python",
   "pygments_lexer": "ipython3",
   "version": "3.10.6"
  }
 },
 "nbformat": 4,
 "nbformat_minor": 5
}
