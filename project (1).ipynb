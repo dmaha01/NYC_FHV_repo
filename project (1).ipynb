{
 "cells": [
  {
   "cell_type": "code",
   "execution_count": 1,
   "id": "3362c45a-5081-4f63-a30c-f25760a028b6",
   "metadata": {},
   "outputs": [],
   "source": [
    "import pandas as pd\n",
    "from sklearn.linear_model import LinearRegression\n",
    "import sklearn\n",
    "from sklearn.model_selection import train_test_split\n",
    "from sklearn.model_selection import cross_val_score\n",
    "import numpy as np\n",
    "import matplotlib.pyplot as plt"
   ]
  },
  {
   "cell_type": "code",
   "execution_count": 21,
   "id": "3f70b9f1-ea9a-4fdb-9106-1abe3e9c540d",
   "metadata": {},
   "outputs": [
    {
     "data": {
      "text/html": [
       "<div>\n",
       "<style scoped>\n",
       "    .dataframe tbody tr th:only-of-type {\n",
       "        vertical-align: middle;\n",
       "    }\n",
       "\n",
       "    .dataframe tbody tr th {\n",
       "        vertical-align: top;\n",
       "    }\n",
       "\n",
       "    .dataframe thead th {\n",
       "        text-align: right;\n",
       "    }\n",
       "</style>\n",
       "<table border=\"1\" class=\"dataframe\">\n",
       "  <thead>\n",
       "    <tr style=\"text-align: right;\">\n",
       "      <th></th>\n",
       "      <th>trip_time</th>\n",
       "      <th>trip_miles</th>\n",
       "      <th>driver_pay</th>\n",
       "      <th>tips</th>\n",
       "    </tr>\n",
       "    <tr>\n",
       "      <th>index</th>\n",
       "      <th></th>\n",
       "      <th></th>\n",
       "      <th></th>\n",
       "      <th></th>\n",
       "    </tr>\n",
       "  </thead>\n",
       "  <tbody>\n",
       "    <tr>\n",
       "      <th>0</th>\n",
       "      <td>576</td>\n",
       "      <td>2.740</td>\n",
       "      <td>7.77</td>\n",
       "      <td>0.0</td>\n",
       "    </tr>\n",
       "    <tr>\n",
       "      <th>1</th>\n",
       "      <td>1079</td>\n",
       "      <td>3.510</td>\n",
       "      <td>10.20</td>\n",
       "      <td>0.0</td>\n",
       "    </tr>\n",
       "    <tr>\n",
       "      <th>2</th>\n",
       "      <td>379</td>\n",
       "      <td>1.280</td>\n",
       "      <td>5.91</td>\n",
       "      <td>0.0</td>\n",
       "    </tr>\n",
       "    <tr>\n",
       "      <th>3</th>\n",
       "      <td>179</td>\n",
       "      <td>0.520</td>\n",
       "      <td>0.00</td>\n",
       "      <td>0.0</td>\n",
       "    </tr>\n",
       "    <tr>\n",
       "      <th>4</th>\n",
       "      <td>959</td>\n",
       "      <td>3.790</td>\n",
       "      <td>15.07</td>\n",
       "      <td>0.0</td>\n",
       "    </tr>\n",
       "    <tr>\n",
       "      <th>...</th>\n",
       "      <td>...</td>\n",
       "      <td>...</td>\n",
       "      <td>...</td>\n",
       "      <td>...</td>\n",
       "    </tr>\n",
       "    <tr>\n",
       "      <th>995</th>\n",
       "      <td>492</td>\n",
       "      <td>1.676</td>\n",
       "      <td>6.31</td>\n",
       "      <td>0.0</td>\n",
       "    </tr>\n",
       "    <tr>\n",
       "      <th>996</th>\n",
       "      <td>1531</td>\n",
       "      <td>11.670</td>\n",
       "      <td>31.07</td>\n",
       "      <td>0.0</td>\n",
       "    </tr>\n",
       "    <tr>\n",
       "      <th>997</th>\n",
       "      <td>622</td>\n",
       "      <td>2.170</td>\n",
       "      <td>8.79</td>\n",
       "      <td>0.0</td>\n",
       "    </tr>\n",
       "    <tr>\n",
       "      <th>998</th>\n",
       "      <td>669</td>\n",
       "      <td>2.310</td>\n",
       "      <td>9.83</td>\n",
       "      <td>0.0</td>\n",
       "    </tr>\n",
       "    <tr>\n",
       "      <th>999</th>\n",
       "      <td>705</td>\n",
       "      <td>2.540</td>\n",
       "      <td>10.33</td>\n",
       "      <td>0.0</td>\n",
       "    </tr>\n",
       "  </tbody>\n",
       "</table>\n",
       "<p>45000 rows × 4 columns</p>\n",
       "</div>"
      ],
      "text/plain": [
       "       trip_time  trip_miles  driver_pay  tips\n",
       "index                                         \n",
       "0            576       2.740        7.77   0.0\n",
       "1           1079       3.510       10.20   0.0\n",
       "2            379       1.280        5.91   0.0\n",
       "3            179       0.520        0.00   0.0\n",
       "4            959       3.790       15.07   0.0\n",
       "...          ...         ...         ...   ...\n",
       "995          492       1.676        6.31   0.0\n",
       "996         1531      11.670       31.07   0.0\n",
       "997          622       2.170        8.79   0.0\n",
       "998          669       2.310        9.83   0.0\n",
       "999          705       2.540       10.33   0.0\n",
       "\n",
       "[45000 rows x 4 columns]"
      ]
     },
     "execution_count": 21,
     "metadata": {},
     "output_type": "execute_result"
    }
   ],
   "source": [
    "trips = pd.read_csv(\"all.csv\")\n",
    "trips[\"index\"] = trips[\"index\"] - 1\n",
    "trips.set_index(\"index\")"
   ]
  },
  {
   "cell_type": "code",
   "execution_count": 20,
   "id": "1fa28839-1bb1-40fe-b4d1-dcdbfadbf697",
   "metadata": {},
   "outputs": [
    {
     "data": {
      "text/plain": [
       "45000"
      ]
     },
     "execution_count": 20,
     "metadata": {},
     "output_type": "execute_result"
    }
   ],
   "source": []
  },
  {
   "cell_type": "code",
   "execution_count": 3,
   "id": "ca0ab749-99bf-4d48-b7f5-e8d9cb20e74c",
   "metadata": {},
   "outputs": [
    {
     "data": {
      "text/html": [
       "<div>\n",
       "<style scoped>\n",
       "    .dataframe tbody tr th:only-of-type {\n",
       "        vertical-align: middle;\n",
       "    }\n",
       "\n",
       "    .dataframe tbody tr th {\n",
       "        vertical-align: top;\n",
       "    }\n",
       "\n",
       "    .dataframe thead th {\n",
       "        text-align: right;\n",
       "    }\n",
       "</style>\n",
       "<table border=\"1\" class=\"dataframe\">\n",
       "  <thead>\n",
       "    <tr style=\"text-align: right;\">\n",
       "      <th></th>\n",
       "      <th>trip_time</th>\n",
       "      <th>trip_miles</th>\n",
       "      <th>driver_pay</th>\n",
       "      <th>tips</th>\n",
       "      <th>index</th>\n",
       "    </tr>\n",
       "  </thead>\n",
       "  <tbody>\n",
       "    <tr>\n",
       "      <th>0</th>\n",
       "      <td>576</td>\n",
       "      <td>2.74</td>\n",
       "      <td>7.77</td>\n",
       "      <td>0.0</td>\n",
       "      <td>0</td>\n",
       "    </tr>\n",
       "    <tr>\n",
       "      <th>1</th>\n",
       "      <td>1079</td>\n",
       "      <td>3.51</td>\n",
       "      <td>10.20</td>\n",
       "      <td>0.0</td>\n",
       "      <td>1</td>\n",
       "    </tr>\n",
       "    <tr>\n",
       "      <th>2</th>\n",
       "      <td>379</td>\n",
       "      <td>1.28</td>\n",
       "      <td>5.91</td>\n",
       "      <td>0.0</td>\n",
       "      <td>2</td>\n",
       "    </tr>\n",
       "    <tr>\n",
       "      <th>3</th>\n",
       "      <td>179</td>\n",
       "      <td>0.52</td>\n",
       "      <td>0.00</td>\n",
       "      <td>0.0</td>\n",
       "      <td>3</td>\n",
       "    </tr>\n",
       "    <tr>\n",
       "      <th>4</th>\n",
       "      <td>959</td>\n",
       "      <td>3.79</td>\n",
       "      <td>15.07</td>\n",
       "      <td>0.0</td>\n",
       "      <td>4</td>\n",
       "    </tr>\n",
       "  </tbody>\n",
       "</table>\n",
       "</div>"
      ],
      "text/plain": [
       "   trip_time  trip_miles  driver_pay  tips  index\n",
       "0        576        2.74        7.77   0.0      0\n",
       "1       1079        3.51       10.20   0.0      1\n",
       "2        379        1.28        5.91   0.0      2\n",
       "3        179        0.52        0.00   0.0      3\n",
       "4        959        3.79       15.07   0.0      4"
      ]
     },
     "execution_count": 3,
     "metadata": {},
     "output_type": "execute_result"
    }
   ],
   "source": [
    "trips.head()"
   ]
  },
  {
   "cell_type": "code",
   "execution_count": 4,
   "id": "43188c42-b313-4f41-9724-db17da2bf443",
   "metadata": {},
   "outputs": [],
   "source": [
    "train, test = train_test_split(trips, test_size=0.25)"
   ]
  },
  {
   "cell_type": "code",
   "execution_count": 23,
   "id": "58412bac-af3f-44e0-b024-1cf03fa0bee6",
   "metadata": {},
   "outputs": [
    {
     "data": {
      "text/plain": [
       "11250"
      ]
     },
     "execution_count": 23,
     "metadata": {},
     "output_type": "execute_result"
    }
   ],
   "source": [
    "len(test)"
   ]
  },
  {
   "cell_type": "code",
   "execution_count": 5,
   "id": "9e3b193d-d8d4-4ce4-ac55-e56e02ebd9c1",
   "metadata": {},
   "outputs": [
    {
     "data": {
      "text/html": [
       "<div>\n",
       "<style scoped>\n",
       "    .dataframe tbody tr th:only-of-type {\n",
       "        vertical-align: middle;\n",
       "    }\n",
       "\n",
       "    .dataframe tbody tr th {\n",
       "        vertical-align: top;\n",
       "    }\n",
       "\n",
       "    .dataframe thead th {\n",
       "        text-align: right;\n",
       "    }\n",
       "</style>\n",
       "<table border=\"1\" class=\"dataframe\">\n",
       "  <thead>\n",
       "    <tr style=\"text-align: right;\">\n",
       "      <th></th>\n",
       "      <th>trip_time</th>\n",
       "      <th>trip_miles</th>\n",
       "      <th>driver_pay</th>\n",
       "      <th>tips</th>\n",
       "      <th>index</th>\n",
       "    </tr>\n",
       "  </thead>\n",
       "  <tbody>\n",
       "    <tr>\n",
       "      <th>31044</th>\n",
       "      <td>460</td>\n",
       "      <td>1.364</td>\n",
       "      <td>5.47</td>\n",
       "      <td>0.0</td>\n",
       "      <td>44</td>\n",
       "    </tr>\n",
       "    <tr>\n",
       "      <th>18790</th>\n",
       "      <td>697</td>\n",
       "      <td>3.190</td>\n",
       "      <td>9.57</td>\n",
       "      <td>0.0</td>\n",
       "      <td>790</td>\n",
       "    </tr>\n",
       "    <tr>\n",
       "      <th>6912</th>\n",
       "      <td>1280</td>\n",
       "      <td>4.620</td>\n",
       "      <td>15.62</td>\n",
       "      <td>0.0</td>\n",
       "      <td>912</td>\n",
       "    </tr>\n",
       "    <tr>\n",
       "      <th>32639</th>\n",
       "      <td>502</td>\n",
       "      <td>1.213</td>\n",
       "      <td>7.07</td>\n",
       "      <td>3.0</td>\n",
       "      <td>639</td>\n",
       "    </tr>\n",
       "    <tr>\n",
       "      <th>18454</th>\n",
       "      <td>842</td>\n",
       "      <td>3.906</td>\n",
       "      <td>11.38</td>\n",
       "      <td>0.0</td>\n",
       "      <td>454</td>\n",
       "    </tr>\n",
       "  </tbody>\n",
       "</table>\n",
       "</div>"
      ],
      "text/plain": [
       "       trip_time  trip_miles  driver_pay  tips  index\n",
       "31044        460       1.364        5.47   0.0     44\n",
       "18790        697       3.190        9.57   0.0    790\n",
       "6912        1280       4.620       15.62   0.0    912\n",
       "32639        502       1.213        7.07   3.0    639\n",
       "18454        842       3.906       11.38   0.0    454"
      ]
     },
     "execution_count": 5,
     "metadata": {},
     "output_type": "execute_result"
    }
   ],
   "source": [
    "train.head()"
   ]
  },
  {
   "cell_type": "code",
   "execution_count": 6,
   "id": "06f6e7bd-0f8e-4f63-9762-697e83be095a",
   "metadata": {},
   "outputs": [
    {
     "data": {
      "text/plain": [
       "0.6900927512189385"
      ]
     },
     "execution_count": 6,
     "metadata": {},
     "output_type": "execute_result"
    }
   ],
   "source": [
    "model = LinearRegression()\n",
    "xcols = [\"trip_time\"]\n",
    "ycol = \"driver_pay\"\n",
    "model.fit(train[xcols], train[ycol])\n",
    "model.predict(test[xcols])\n",
    "model.score(test[xcols], test[ycol])"
   ]
  },
  {
   "cell_type": "code",
   "execution_count": 7,
   "id": "57b69c4d-f76b-43c5-9e48-dc9c27c775ad",
   "metadata": {},
   "outputs": [
    {
     "data": {
      "text/html": [
       "<div>\n",
       "<style scoped>\n",
       "    .dataframe tbody tr th:only-of-type {\n",
       "        vertical-align: middle;\n",
       "    }\n",
       "\n",
       "    .dataframe tbody tr th {\n",
       "        vertical-align: top;\n",
       "    }\n",
       "\n",
       "    .dataframe thead th {\n",
       "        text-align: right;\n",
       "    }\n",
       "</style>\n",
       "<table border=\"1\" class=\"dataframe\">\n",
       "  <thead>\n",
       "    <tr style=\"text-align: right;\">\n",
       "      <th></th>\n",
       "      <th>trip_time</th>\n",
       "      <th>Predicted</th>\n",
       "    </tr>\n",
       "  </thead>\n",
       "  <tbody>\n",
       "    <tr>\n",
       "      <th>0</th>\n",
       "      <td>576</td>\n",
       "      <td>8.345247</td>\n",
       "    </tr>\n",
       "    <tr>\n",
       "      <th>1</th>\n",
       "      <td>1079</td>\n",
       "      <td>15.826673</td>\n",
       "    </tr>\n",
       "    <tr>\n",
       "      <th>2</th>\n",
       "      <td>379</td>\n",
       "      <td>5.415145</td>\n",
       "    </tr>\n",
       "    <tr>\n",
       "      <th>3</th>\n",
       "      <td>179</td>\n",
       "      <td>2.440423</td>\n",
       "    </tr>\n",
       "    <tr>\n",
       "      <th>4</th>\n",
       "      <td>959</td>\n",
       "      <td>14.041840</td>\n",
       "    </tr>\n",
       "    <tr>\n",
       "      <th>...</th>\n",
       "      <td>...</td>\n",
       "      <td>...</td>\n",
       "    </tr>\n",
       "    <tr>\n",
       "      <th>44995</th>\n",
       "      <td>492</td>\n",
       "      <td>7.095863</td>\n",
       "    </tr>\n",
       "    <tr>\n",
       "      <th>44996</th>\n",
       "      <td>1531</td>\n",
       "      <td>22.549545</td>\n",
       "    </tr>\n",
       "    <tr>\n",
       "      <th>44997</th>\n",
       "      <td>622</td>\n",
       "      <td>9.029433</td>\n",
       "    </tr>\n",
       "    <tr>\n",
       "      <th>44998</th>\n",
       "      <td>669</td>\n",
       "      <td>9.728493</td>\n",
       "    </tr>\n",
       "    <tr>\n",
       "      <th>44999</th>\n",
       "      <td>705</td>\n",
       "      <td>10.263943</td>\n",
       "    </tr>\n",
       "  </tbody>\n",
       "</table>\n",
       "<p>45000 rows × 2 columns</p>\n",
       "</div>"
      ],
      "text/plain": [
       "       trip_time  Predicted\n",
       "0            576   8.345247\n",
       "1           1079  15.826673\n",
       "2            379   5.415145\n",
       "3            179   2.440423\n",
       "4            959  14.041840\n",
       "...          ...        ...\n",
       "44995        492   7.095863\n",
       "44996       1531  22.549545\n",
       "44997        622   9.029433\n",
       "44998        669   9.728493\n",
       "44999        705  10.263943\n",
       "\n",
       "[45000 rows x 2 columns]"
      ]
     },
     "execution_count": 7,
     "metadata": {},
     "output_type": "execute_result"
    }
   ],
   "source": [
    "predict_df = pd.DataFrame(trips[\"trip_time\"])\n",
    "predict_df[\"Predicted\"] = model.predict(predict_df)\n",
    "predict_df"
   ]
  },
  {
   "cell_type": "code",
   "execution_count": 8,
   "id": "7b4a9216-1926-4322-bc60-042c7fbd055d",
   "metadata": {},
   "outputs": [
    {
     "data": {
      "text/plain": [
       "<AxesSubplot:xlabel='trip_time', ylabel='driver_pay'>"
      ]
     },
     "execution_count": 8,
     "metadata": {},
     "output_type": "execute_result"
    },
    {
     "data": {
      "image/png": "[encoded data removed]",
      "text/plain": [
       "<Figure size 640x480 with 1 Axes>"
      ]
     },
     "metadata": {},
     "output_type": "display_data"
    }
   ],
   "source": [
    "ax = predict_df.plot.line(x=\"trip_time\", y=\"Predicted\", color=\"r\")\n",
    "trips.plot.scatter(x=\"trip_time\", y=\"driver_pay\", ax=ax, color = \"blue\", label = \"Actual\")"
   ]
  },
  {
   "cell_type": "code",
   "execution_count": 9,
   "id": "67d0638f-9a90-4db7-8637-d2b8eeec1566",
   "metadata": {},
   "outputs": [
    {
     "data": {
      "text/plain": [
       "0.7338804222331624"
      ]
     },
     "execution_count": 9,
     "metadata": {},
     "output_type": "execute_result"
    }
   ],
   "source": [
    "model = LinearRegression()\n",
    "xcols = [\"trip_miles\"]\n",
    "ycol = \"driver_pay\"\n",
    "model.fit(train[xcols], train[ycol])\n",
    "model.predict(test[xcols])\n",
    "model.score(test[xcols], test[ycol])"
   ]
  },
  {
   "cell_type": "code",
   "execution_count": 10,
   "id": "5267477a-6fe7-4150-9e4d-3d9b35d7368b",
   "metadata": {},
   "outputs": [
    {
     "data": {
      "text/html": [
       "<div>\n",
       "<style scoped>\n",
       "    .dataframe tbody tr th:only-of-type {\n",
       "        vertical-align: middle;\n",
       "    }\n",
       "\n",
       "    .dataframe tbody tr th {\n",
       "        vertical-align: top;\n",
       "    }\n",
       "\n",
       "    .dataframe thead th {\n",
       "        text-align: right;\n",
       "    }\n",
       "</style>\n",
       "<table border=\"1\" class=\"dataframe\">\n",
       "  <thead>\n",
       "    <tr style=\"text-align: right;\">\n",
       "      <th></th>\n",
       "      <th>trip_miles</th>\n",
       "      <th>Predicted</th>\n",
       "    </tr>\n",
       "  </thead>\n",
       "  <tbody>\n",
       "    <tr>\n",
       "      <th>0</th>\n",
       "      <td>2.740</td>\n",
       "      <td>11.671095</td>\n",
       "    </tr>\n",
       "    <tr>\n",
       "      <th>1</th>\n",
       "      <td>3.510</td>\n",
       "      <td>13.330022</td>\n",
       "    </tr>\n",
       "    <tr>\n",
       "      <th>2</th>\n",
       "      <td>1.280</td>\n",
       "      <td>8.525597</td>\n",
       "    </tr>\n",
       "    <tr>\n",
       "      <th>3</th>\n",
       "      <td>0.520</td>\n",
       "      <td>6.888214</td>\n",
       "    </tr>\n",
       "    <tr>\n",
       "      <th>4</th>\n",
       "      <td>3.790</td>\n",
       "      <td>13.933268</td>\n",
       "    </tr>\n",
       "    <tr>\n",
       "      <th>...</th>\n",
       "      <td>...</td>\n",
       "      <td>...</td>\n",
       "    </tr>\n",
       "    <tr>\n",
       "      <th>44995</th>\n",
       "      <td>1.676</td>\n",
       "      <td>9.378759</td>\n",
       "    </tr>\n",
       "    <tr>\n",
       "      <th>44996</th>\n",
       "      <td>11.670</td>\n",
       "      <td>30.910341</td>\n",
       "    </tr>\n",
       "    <tr>\n",
       "      <th>44997</th>\n",
       "      <td>2.170</td>\n",
       "      <td>10.443058</td>\n",
       "    </tr>\n",
       "    <tr>\n",
       "      <th>44998</th>\n",
       "      <td>2.310</td>\n",
       "      <td>10.744681</td>\n",
       "    </tr>\n",
       "    <tr>\n",
       "      <th>44999</th>\n",
       "      <td>2.540</td>\n",
       "      <td>11.240205</td>\n",
       "    </tr>\n",
       "  </tbody>\n",
       "</table>\n",
       "<p>45000 rows × 2 columns</p>\n",
       "</div>"
      ],
      "text/plain": [
       "       trip_miles  Predicted\n",
       "0           2.740  11.671095\n",
       "1           3.510  13.330022\n",
       "2           1.280   8.525597\n",
       "3           0.520   6.888214\n",
       "4           3.790  13.933268\n",
       "...           ...        ...\n",
       "44995       1.676   9.378759\n",
       "44996      11.670  30.910341\n",
       "44997       2.170  10.443058\n",
       "44998       2.310  10.744681\n",
       "44999       2.540  11.240205\n",
       "\n",
       "[45000 rows x 2 columns]"
      ]
     },
     "execution_count": 10,
     "metadata": {},
     "output_type": "execute_result"
    }
   ],
   "source": [
    "predict_df = pd.DataFrame(trips[\"trip_miles\"])\n",
    "predict_df[\"Predicted\"] = model.predict(predict_df)\n",
    "predict_df"
   ]
  },
  {
   "cell_type": "code",
   "execution_count": 11,
   "id": "11533ece-fd29-4ef1-b56a-f7ddd95278e1",
   "metadata": {},
   "outputs": [
    {
     "data": {
      "text/plain": [
       "<AxesSubplot:xlabel='trip_miles', ylabel='driver_pay'>"
      ]
     },
     "execution_count": 11,
     "metadata": {},
     "output_type": "execute_result"
    },
    {
     "data": {
      "image/png": "[encoded data removed]",
      "text/plain": [
       "<Figure size 640x480 with 1 Axes>"
      ]
     },
     "metadata": {},
     "output_type": "display_data"
    }
   ],
   "source": [
    "ax = predict_df.plot.line(x=\"trip_miles\", y=\"Predicted\", color=\"r\")\n",
    "trips.plot.scatter(x=\"trip_miles\", y=\"driver_pay\", ax=ax, color = \"blue\", label = \"Actual\")"
   ]
  },
  {
   "cell_type": "code",
   "execution_count": 12,
   "id": "581cdf9b-0a78-4dd0-836c-8a983983f4ab",
   "metadata": {},
   "outputs": [
    {
     "data": {
      "text/plain": [
       "0.05954787866284261"
      ]
     },
     "execution_count": 12,
     "metadata": {},
     "output_type": "execute_result"
    }
   ],
   "source": [
    "model = LinearRegression()\n",
    "xcols = [\"trip_time\"]\n",
    "ycol = \"tips\"\n",
    "model.fit(train[xcols], train[ycol])\n",
    "model.predict(test[xcols])\n",
    "model.score(test[xcols], test[ycol])"
   ]
  },
  {
   "cell_type": "code",
   "execution_count": 13,
   "id": "114ff46e-1905-426f-8091-49a752af4b7d",
   "metadata": {},
   "outputs": [
    {
     "data": {
      "text/html": [
       "<div>\n",
       "<style scoped>\n",
       "    .dataframe tbody tr th:only-of-type {\n",
       "        vertical-align: middle;\n",
       "    }\n",
       "\n",
       "    .dataframe tbody tr th {\n",
       "        vertical-align: top;\n",
       "    }\n",
       "\n",
       "    .dataframe thead th {\n",
       "        text-align: right;\n",
       "    }\n",
       "</style>\n",
       "<table border=\"1\" class=\"dataframe\">\n",
       "  <thead>\n",
       "    <tr style=\"text-align: right;\">\n",
       "      <th></th>\n",
       "      <th>trip_time</th>\n",
       "      <th>Predicted</th>\n",
       "    </tr>\n",
       "  </thead>\n",
       "  <tbody>\n",
       "    <tr>\n",
       "      <th>0</th>\n",
       "      <td>576</td>\n",
       "      <td>0.374533</td>\n",
       "    </tr>\n",
       "    <tr>\n",
       "      <th>1</th>\n",
       "      <td>1079</td>\n",
       "      <td>0.696919</td>\n",
       "    </tr>\n",
       "    <tr>\n",
       "      <th>2</th>\n",
       "      <td>379</td>\n",
       "      <td>0.248271</td>\n",
       "    </tr>\n",
       "    <tr>\n",
       "      <th>3</th>\n",
       "      <td>179</td>\n",
       "      <td>0.120086</td>\n",
       "    </tr>\n",
       "    <tr>\n",
       "      <th>4</th>\n",
       "      <td>959</td>\n",
       "      <td>0.620008</td>\n",
       "    </tr>\n",
       "    <tr>\n",
       "      <th>...</th>\n",
       "      <td>...</td>\n",
       "      <td>...</td>\n",
       "    </tr>\n",
       "    <tr>\n",
       "      <th>44995</th>\n",
       "      <td>492</td>\n",
       "      <td>0.320696</td>\n",
       "    </tr>\n",
       "    <tr>\n",
       "      <th>44996</th>\n",
       "      <td>1531</td>\n",
       "      <td>0.986617</td>\n",
       "    </tr>\n",
       "    <tr>\n",
       "      <th>44997</th>\n",
       "      <td>622</td>\n",
       "      <td>0.404016</td>\n",
       "    </tr>\n",
       "    <tr>\n",
       "      <th>44998</th>\n",
       "      <td>669</td>\n",
       "      <td>0.434139</td>\n",
       "    </tr>\n",
       "    <tr>\n",
       "      <th>44999</th>\n",
       "      <td>705</td>\n",
       "      <td>0.457213</td>\n",
       "    </tr>\n",
       "  </tbody>\n",
       "</table>\n",
       "<p>45000 rows × 2 columns</p>\n",
       "</div>"
      ],
      "text/plain": [
       "       trip_time  Predicted\n",
       "0            576   0.374533\n",
       "1           1079   0.696919\n",
       "2            379   0.248271\n",
       "3            179   0.120086\n",
       "4            959   0.620008\n",
       "...          ...        ...\n",
       "44995        492   0.320696\n",
       "44996       1531   0.986617\n",
       "44997        622   0.404016\n",
       "44998        669   0.434139\n",
       "44999        705   0.457213\n",
       "\n",
       "[45000 rows x 2 columns]"
      ]
     },
     "execution_count": 13,
     "metadata": {},
     "output_type": "execute_result"
    }
   ],
   "source": [
    "predict_df = pd.DataFrame(trips[\"trip_time\"])\n",
    "predict_df[\"Predicted\"] = model.predict(predict_df)\n",
    "predict_df"
   ]
  },
  {
   "cell_type": "code",
   "execution_count": 14,
   "id": "4716fe4c-0575-4e38-9eda-95ad48f84f0b",
   "metadata": {},
   "outputs": [
    {
     "data": {
      "text/plain": [
       "<AxesSubplot:xlabel='trip_time', ylabel='tips'>"
      ]
     },
     "execution_count": 14,
     "metadata": {},
     "output_type": "execute_result"
    },
    {
     "data": {
      "image/png": "[encoded data removed]",
      "text/plain": [
       "<Figure size 640x480 with 1 Axes>"
      ]
     },
     "metadata": {},
     "output_type": "display_data"
    }
   ],
   "source": [
    "ax = predict_df.plot.line(x=\"trip_time\", y=\"Predicted\", color=\"r\")\n",
    "trips.plot.scatter(x=\"trip_time\", y=\"tips\", ax=ax, color = \"blue\", label = \"Actual\")"
   ]
  },
  {
   "cell_type": "code",
   "execution_count": 15,
   "id": "fbd32238-42c5-4918-baac-4bd5136f8c4b",
   "metadata": {},
   "outputs": [
    {
     "data": {
      "text/plain": [
       "0.056846603182588606"
      ]
     },
     "execution_count": 15,
     "metadata": {},
     "output_type": "execute_result"
    }
   ],
   "source": [
    "model = LinearRegression()\n",
    "xcols = [\"trip_miles\"]\n",
    "ycol = \"tips\"\n",
    "model.fit(train[xcols], train[ycol])\n",
    "model.predict(test[xcols])\n",
    "model.score(test[xcols], test[ycol])"
   ]
  },
  {
   "cell_type": "code",
   "execution_count": 16,
   "id": "af7318f7-df84-4359-adfb-b32dda03024f",
   "metadata": {},
   "outputs": [
    {
     "data": {
      "text/html": [
       "<div>\n",
       "<style scoped>\n",
       "    .dataframe tbody tr th:only-of-type {\n",
       "        vertical-align: middle;\n",
       "    }\n",
       "\n",
       "    .dataframe tbody tr th {\n",
       "        vertical-align: top;\n",
       "    }\n",
       "\n",
       "    .dataframe thead th {\n",
       "        text-align: right;\n",
       "    }\n",
       "</style>\n",
       "<table border=\"1\" class=\"dataframe\">\n",
       "  <thead>\n",
       "    <tr style=\"text-align: right;\">\n",
       "      <th></th>\n",
       "      <th>trip_miles</th>\n",
       "      <th>Predicted</th>\n",
       "    </tr>\n",
       "  </thead>\n",
       "  <tbody>\n",
       "    <tr>\n",
       "      <th>0</th>\n",
       "      <td>2.740</td>\n",
       "      <td>0.509854</td>\n",
       "    </tr>\n",
       "    <tr>\n",
       "      <th>1</th>\n",
       "      <td>3.510</td>\n",
       "      <td>0.584305</td>\n",
       "    </tr>\n",
       "    <tr>\n",
       "      <th>2</th>\n",
       "      <td>1.280</td>\n",
       "      <td>0.368686</td>\n",
       "    </tr>\n",
       "    <tr>\n",
       "      <th>3</th>\n",
       "      <td>0.520</td>\n",
       "      <td>0.295201</td>\n",
       "    </tr>\n",
       "    <tr>\n",
       "      <th>4</th>\n",
       "      <td>3.790</td>\n",
       "      <td>0.611378</td>\n",
       "    </tr>\n",
       "    <tr>\n",
       "      <th>...</th>\n",
       "      <td>...</td>\n",
       "      <td>...</td>\n",
       "    </tr>\n",
       "    <tr>\n",
       "      <th>44995</th>\n",
       "      <td>1.676</td>\n",
       "      <td>0.406975</td>\n",
       "    </tr>\n",
       "    <tr>\n",
       "      <th>44996</th>\n",
       "      <td>11.670</td>\n",
       "      <td>1.373296</td>\n",
       "    </tr>\n",
       "    <tr>\n",
       "      <th>44997</th>\n",
       "      <td>2.170</td>\n",
       "      <td>0.454740</td>\n",
       "    </tr>\n",
       "    <tr>\n",
       "      <th>44998</th>\n",
       "      <td>2.310</td>\n",
       "      <td>0.468277</td>\n",
       "    </tr>\n",
       "    <tr>\n",
       "      <th>44999</th>\n",
       "      <td>2.540</td>\n",
       "      <td>0.490516</td>\n",
       "    </tr>\n",
       "  </tbody>\n",
       "</table>\n",
       "<p>45000 rows × 2 columns</p>\n",
       "</div>"
      ],
      "text/plain": [
       "       trip_miles  Predicted\n",
       "0           2.740   0.509854\n",
       "1           3.510   0.584305\n",
       "2           1.280   0.368686\n",
       "3           0.520   0.295201\n",
       "4           3.790   0.611378\n",
       "...           ...        ...\n",
       "44995       1.676   0.406975\n",
       "44996      11.670   1.373296\n",
       "44997       2.170   0.454740\n",
       "44998       2.310   0.468277\n",
       "44999       2.540   0.490516\n",
       "\n",
       "[45000 rows x 2 columns]"
      ]
     },
     "execution_count": 16,
     "metadata": {},
     "output_type": "execute_result"
    }
   ],
   "source": [
    "predict_df = pd.DataFrame(trips[\"trip_miles\"])\n",
    "predict_df[\"Predicted\"] = model.predict(predict_df)\n",
    "predict_df"
   ]
  },
  {
   "cell_type": "code",
   "execution_count": 17,
   "id": "570ba8a0-854f-4d9b-96ec-867e95bba82a",
   "metadata": {},
   "outputs": [
    {
     "data": {
      "text/plain": [
       "<AxesSubplot:xlabel='trip_miles', ylabel='tips'>"
      ]
     },
     "execution_count": 17,
     "metadata": {},
     "output_type": "execute_result"
    },
    {
     "data": {
      "image/png": "[encoded data removed]",
      "text/plain": [
       "<Figure size 640x480 with 1 Axes>"
      ]
     },
     "metadata": {},
     "output_type": "display_data"
    }
   ],
   "source": [
    "ax = predict_df.plot.line(x=\"trip_miles\", y=\"Predicted\", color=\"r\")\n",
    "trips.plot.scatter(x=\"trip_miles\", y=\"tips\", ax=ax, color = \"blue\", label = \"Actual\")"
   ]
  },
  {
   "cell_type": "code",
   "execution_count": 18,
   "id": "6f4c43eb-1888-442a-8f6b-33e36f0cff36",
   "metadata": {},
   "outputs": [
    {
     "data": {
      "text/plain": [
       "0.7984011072448693"
      ]
     },
     "execution_count": 18,
     "metadata": {},
     "output_type": "execute_result"
    }
   ],
   "source": [
    "model = LinearRegression()\n",
    "xcols = [\"trip_miles\", \"trip_time\"]\n",
    "ycol = \"driver_pay\"\n",
    "model.fit(train[xcols], train[ycol])\n",
    "model.predict(test[xcols])\n",
    "model.score(test[xcols], test[ycol])"
   ]
  },
  {
   "cell_type": "code",
   "execution_count": 19,
   "id": "5e6d1c37-fd70-43ea-b405-46388267344a",
   "metadata": {},
   "outputs": [
    {
     "data": {
      "text/plain": [
       "0.06424490625812773"
      ]
     },
     "execution_count": 19,
     "metadata": {},
     "output_type": "execute_result"
    }
   ],
   "source": [
    "model = LinearRegression()\n",
    "xcols = [\"trip_miles\", \"trip_time\"]\n",
    "ycol = \"tips\"\n",
    "model.fit(train[xcols], train[ycol])\n",
    "model.predict(test[xcols])\n",
    "model.score(test[xcols], test[ycol])"
   ]
  }
 ],
 "metadata": {
  "kernelspec": {
   "display_name": "Python 3 (ipykernel)",
   "language": "python",
   "name": "python3"
  },
  "language_info": {
   "codemirror_mode": {
    "name": "ipython",
    "version": 3
   },
   "file_extension": ".py",
   "mimetype": "text/x-python",
   "name": "python",
   "nbconvert_exporter": "python",
   "pygments_lexer": "ipython3",
   "version": "3.10.6"
  }
 },
 "nbformat": 4,
 "nbformat_minor": 5
}
